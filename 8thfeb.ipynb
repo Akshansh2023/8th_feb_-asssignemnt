{
 "cells": [
  {
   "cell_type": "code",
   "execution_count": null,
   "id": "5eec3e3c-e543-43bb-9e64-286183d1a40a",
   "metadata": {},
   "outputs": [],
   "source": [
    "Q1. What is Abstraction in OOps? Explain with an example."
   ]
  },
  {
   "cell_type": "code",
   "execution_count": null,
   "id": "b7a19293-71a8-4ec4-8923-2127ed3e902c",
   "metadata": {},
   "outputs": [],
   "source": [
    "# answer\n",
    "Abstraction in OOP refers to hiding the implementation details of a class and exposing only necessary information to the outside world.\n",
    "It separates the implementation details from the user's view and allows the user to work with the class without worrying about how it is implemented.\n",
    "For example, in a class \"Car\", the user only needs to know that they can start, stop, and drive the car, not the engine size or transmission type.\n",
    "This can be achieved through methods in the class that expose these abstractions to the user."
   ]
  },
  {
   "cell_type": "code",
   "execution_count": null,
   "id": "a5c4e5ca-3f4a-4f10-9ecd-4cef99860890",
   "metadata": {},
   "outputs": [],
   "source": [
    "Q2. Q2. Differentiate between Abstraction and Encapsulation. Explain with an example."
   ]
  },
  {
   "cell_type": "code",
   "execution_count": null,
   "id": "ebf29529-ae2b-4515-ace9-b70cc96502eb",
   "metadata": {},
   "outputs": [],
   "source": [
    "#Answer\n",
    "\n",
    "Abstraction and Encapsulation are two important concepts in OOP. Abstraction refers to hiding the implementation details of a class and exposing only necessary information to the user.\n",
    "Encapsulation refers to wrapping the data and code within an object to protect the internal state from unintended modification.\n"
   ]
  },
  {
   "cell_type": "code",
   "execution_count": null,
   "id": "1df1001b-d89d-4b07-8ad9-cac3f60fc7d6",
   "metadata": {},
   "outputs": [],
   "source": [
    "#Here's an example in Python to illustrate the difference between abstraction and encapsulation:\n",
    "class Car:\n",
    "    def __init__(self, make, model):\n",
    "        self.__make = make\n",
    "        self.__model = model\n",
    "    \n",
    "    def start(self):\n",
    "        print(\"Starting the car...\")\n",
    "    \n",
    "    def stop(self):\n",
    "        print(\"Stopping the car...\")\n",
    "    \n",
    "    def drive(self):\n",
    "        print(\"Driving the car...\")\n",
    "\n",
    "# Create an instance of the Car class\n",
    "my_car = Car(\"Toyota\", \"Camry\")\n",
    "\n",
    "# Use the methods of the class without worrying about the implementation details\n",
    "# This is an example of abstraction\n",
    "my_car.start()\n",
    "my_car.drive()\n",
    "my_car.stop()\n",
    "\n",
    "# Try to access the internal state of the object\n",
    "# This is not allowed because of encapsulation\n",
    "print(my_car.__make)  # AttributeError: 'Car' object has no attribute '__make'\n"
   ]
  },
  {
   "cell_type": "code",
   "execution_count": null,
   "id": "c00e9e28-d823-46f7-b270-b9f94fef9782",
   "metadata": {},
   "outputs": [],
   "source": [
    "Q3. What is abc module in python? Why is it used?"
   ]
  },
  {
   "cell_type": "code",
   "execution_count": null,
   "id": "86450dd6-c9e9-44eb-b398-a8c8199d5893",
   "metadata": {},
   "outputs": [],
   "source": [
    "The abc module in Python provides the functionality of abstract base classes, which are classes that cannot be instantiated but can be subclassed.\n",
    "The main use of abstract base classes is to provide a common interface for a set of related classes, so that code written for the abstract base class will work with any of its subclasses. \n",
    "The abc module is used to define abstract base classes and to enforce that subclasses implement certain methods."
   ]
  },
  {
   "cell_type": "code",
   "execution_count": null,
   "id": "c7695692-7f7b-4bd9-93cc-8d092649f2bd",
   "metadata": {},
   "outputs": [],
   "source": [
    "Q4. How can we achieve data abstraction?"
   ]
  },
  {
   "cell_type": "code",
   "execution_count": null,
   "id": "e1550ca5-04f9-4516-8385-7a5d551268ee",
   "metadata": {},
   "outputs": [],
   "source": [
    "#Answer\n",
    "data abstraction is achieved through encapsulation, abstraction, and interfaces. Encapsulation protects the internal state of an object by declaring instance variables as private and providing public methods to access and modify them.\n",
    "Abstraction is achieved by defining abstract classes and methods, and forcing subclasses to implement them. Interfaces define a set of methods that a class must implement without providing implementation details. \n",
    "By using these techniques, the implementation details of an object are hidden from the user, and the object's state is kept in a consistent state."
   ]
  },
  {
   "cell_type": "code",
   "execution_count": null,
   "id": "df731577-9a78-4411-a3a2-cd1a70b51cce",
   "metadata": {},
   "outputs": [],
   "source": [
    "Q5. Can we create an instance of an abstract class? Explain your answer."
   ]
  },
  {
   "cell_type": "code",
   "execution_count": null,
   "id": "9003b2db-d73c-452c-8421-c0a8712719df",
   "metadata": {},
   "outputs": [],
   "source": [
    "#Answer\n",
    "No, we cannot create an instance of an abstract class in Python. An abstract class is a class that cannot be instantiated, but serves as a blueprint for other classes. \n",
    "The purpose of an abstract class is to provide common interface and implementation to its subclasses.\n",
    "In Python, abstract classes are defined using the abc module and the ABC class from the abc module. To make a class abstract, you need to inherit from the ABC class and define abstract methods using the @abstractmethod decorator.\n",
    "Here's an example of an abstract class in Python:\n",
    "\n",
    "from abc import ABC, abstractmethod\n",
    "\n",
    "class Shape(ABC):\n",
    "    @abstractmethod\n",
    "    def area(self):\n",
    "        pass\n",
    "    \n",
    "    @abstractmethod\n",
    "    def perimeter(self):\n",
    "        pass\n"
   ]
  },
  {
   "cell_type": "code",
   "execution_count": null,
   "id": "ae01d1d6-13eb-4ad5-a8df-6382187456a8",
   "metadata": {},
   "outputs": [],
   "source": []
  },
  {
   "cell_type": "code",
   "execution_count": null,
   "id": "593b4e91-5baf-4756-b0f4-8ca8e56499f4",
   "metadata": {},
   "outputs": [],
   "source": []
  },
  {
   "cell_type": "code",
   "execution_count": null,
   "id": "a3854f62-a45d-47de-8a4e-5168f091d552",
   "metadata": {},
   "outputs": [],
   "source": []
  },
  {
   "cell_type": "code",
   "execution_count": null,
   "id": "7a754ef0-9c8a-4d4d-9d15-4b6938d1c56b",
   "metadata": {},
   "outputs": [],
   "source": []
  },
  {
   "cell_type": "code",
   "execution_count": null,
   "id": "2d31cac2-52cc-41f8-94d4-659ec446d04c",
   "metadata": {},
   "outputs": [],
   "source": []
  }
 ],
 "metadata": {
  "kernelspec": {
   "display_name": "Python 3 (ipykernel)",
   "language": "python",
   "name": "python3"
  },
  "language_info": {
   "codemirror_mode": {
    "name": "ipython",
    "version": 3
   },
   "file_extension": ".py",
   "mimetype": "text/x-python",
   "name": "python",
   "nbconvert_exporter": "python",
   "pygments_lexer": "ipython3",
   "version": "3.10.8"
  }
 },
 "nbformat": 4,
 "nbformat_minor": 5
}
